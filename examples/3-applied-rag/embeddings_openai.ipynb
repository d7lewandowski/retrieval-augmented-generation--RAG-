{
 "cells": [
  {
   "cell_type": "code",
   "execution_count": 1,
   "id": "856aad0d",
   "metadata": {},
   "outputs": [],
   "source": [
    "# Working with new dataset "
   ]
  },
  {
   "cell_type": "code",
   "execution_count": 36,
   "id": "d566bb99-6808-4976-8476-ed05b7941b80",
   "metadata": {},
   "outputs": [
    {
     "data": {
      "text/plain": [
       "700"
      ]
     },
     "execution_count": 36,
     "metadata": {},
     "output_type": "execute_result"
    }
   ],
   "source": [
    "import pandas as pd\n",
    "df = pd.read_csv(r'../../higher_ed_employee_salaries.csv')\n",
    "data = df.sample(700).to_dict('records') # Get only 700 records. More records will make it slower to index\n",
    "len(data)"
   ]
  },
  {
   "cell_type": "code",
   "execution_count": 37,
   "id": "8013c25e",
   "metadata": {},
   "outputs": [
    {
     "data": {
      "text/html": [
       "<div>\n",
       "<style scoped>\n",
       "    .dataframe tbody tr th:only-of-type {\n",
       "        vertical-align: middle;\n",
       "    }\n",
       "\n",
       "    .dataframe tbody tr th {\n",
       "        vertical-align: top;\n",
       "    }\n",
       "\n",
       "    .dataframe thead th {\n",
       "        text-align: right;\n",
       "    }\n",
       "</style>\n",
       "<table border=\"1\" class=\"dataframe\">\n",
       "  <thead>\n",
       "    <tr style=\"text-align: right;\">\n",
       "      <th></th>\n",
       "      <th>Name</th>\n",
       "      <th>School</th>\n",
       "      <th>Job Description</th>\n",
       "      <th>Department</th>\n",
       "      <th>Earnings</th>\n",
       "      <th>Year</th>\n",
       "    </tr>\n",
       "  </thead>\n",
       "  <tbody>\n",
       "    <tr>\n",
       "      <th>0</th>\n",
       "      <td>Don Potter</td>\n",
       "      <td>University of Akron</td>\n",
       "      <td>Assistant Lecturer</td>\n",
       "      <td>Social Work</td>\n",
       "      <td>2472.00</td>\n",
       "      <td>2019</td>\n",
       "    </tr>\n",
       "    <tr>\n",
       "      <th>1</th>\n",
       "      <td>Emily Potter</td>\n",
       "      <td>The Ohio State University</td>\n",
       "      <td>Administrative Assistant 3</td>\n",
       "      <td>Arts and Sciences | Chemistry and Biochemistry...</td>\n",
       "      <td>48538.02</td>\n",
       "      <td>2022</td>\n",
       "    </tr>\n",
       "    <tr>\n",
       "      <th>2</th>\n",
       "      <td>Carol Jean Potter</td>\n",
       "      <td>The Ohio State University</td>\n",
       "      <td>Associate Professor-Clinical</td>\n",
       "      <td>Pediatrics</td>\n",
       "      <td>22722.80</td>\n",
       "      <td>2013</td>\n",
       "    </tr>\n",
       "    <tr>\n",
       "      <th>3</th>\n",
       "      <td>Kim Potter</td>\n",
       "      <td>The Ohio State University</td>\n",
       "      <td>Manager 4, Compliance</td>\n",
       "      <td>Legal Affairs | Compliance</td>\n",
       "      <td>170143.44</td>\n",
       "      <td>2022</td>\n",
       "    </tr>\n",
       "    <tr>\n",
       "      <th>4</th>\n",
       "      <td>Graham Potter</td>\n",
       "      <td>Miami University</td>\n",
       "      <td>Building and Grounds Assistant</td>\n",
       "      <td>Assoc VP Housing,Dining,Rec,Bus Svc</td>\n",
       "      <td>3075.20</td>\n",
       "      <td>2012</td>\n",
       "    </tr>\n",
       "  </tbody>\n",
       "</table>\n",
       "</div>"
      ],
      "text/plain": [
       "                Name                     School  \\\n",
       "0         Don Potter        University of Akron   \n",
       "1       Emily Potter  The Ohio State University   \n",
       "2  Carol Jean Potter  The Ohio State University   \n",
       "3         Kim Potter  The Ohio State University   \n",
       "4      Graham Potter           Miami University   \n",
       "\n",
       "                  Job Description  \\\n",
       "0              Assistant Lecturer   \n",
       "1      Administrative Assistant 3   \n",
       "2    Associate Professor-Clinical   \n",
       "3           Manager 4, Compliance   \n",
       "4  Building and Grounds Assistant   \n",
       "\n",
       "                                          Department   Earnings  Year  \n",
       "0                                        Social Work    2472.00  2019  \n",
       "1  Arts and Sciences | Chemistry and Biochemistry...   48538.02  2022  \n",
       "2                                         Pediatrics   22722.80  2013  \n",
       "3                         Legal Affairs | Compliance  170143.44  2022  \n",
       "4                Assoc VP Housing,Dining,Rec,Bus Svc    3075.20  2012  "
      ]
     },
     "execution_count": 37,
     "metadata": {},
     "output_type": "execute_result"
    }
   ],
   "source": [
    "df.head()"
   ]
  },
  {
   "cell_type": "code",
   "execution_count": 55,
   "id": "b03d1157",
   "metadata": {},
   "outputs": [
    {
     "data": {
      "text/plain": [
       "Index(['Name', 'School', 'Job Description', 'Department', 'Earnings', 'Year'], dtype='object')"
      ]
     },
     "execution_count": 55,
     "metadata": {},
     "output_type": "execute_result"
    }
   ],
   "source": []
  },
  {
   "cell_type": "code",
   "execution_count": 38,
   "id": "9012f479",
   "metadata": {},
   "outputs": [
    {
     "name": "stdout",
     "output_type": "stream",
     "text": [
      "<class 'pandas.core.frame.DataFrame'>\n",
      "RangeIndex: 934348 entries, 0 to 934347\n",
      "Data columns (total 6 columns):\n",
      " #   Column           Non-Null Count   Dtype  \n",
      "---  ------           --------------   -----  \n",
      " 0   Name             934348 non-null  object \n",
      " 1   School           934348 non-null  object \n",
      " 2   Job Description  907680 non-null  object \n",
      " 3   Department       873896 non-null  object \n",
      " 4   Earnings         924673 non-null  float64\n",
      " 5   Year             934348 non-null  int64  \n",
      "dtypes: float64(1), int64(1), object(4)\n",
      "memory usage: 42.8+ MB\n"
     ]
    }
   ],
   "source": [
    "df.info()"
   ]
  },
  {
   "cell_type": "code",
   "execution_count": 107,
   "id": "d3639f7e",
   "metadata": {},
   "outputs": [],
   "source": [
    "df['Earnings'] = df['Earnings'].astype('str')\n",
    "df['Year'] = df['Year'].astype('str')"
   ]
  },
  {
   "cell_type": "code",
   "execution_count": 108,
   "id": "57de2a95",
   "metadata": {},
   "outputs": [],
   "source": [
    "df = df.dropna()"
   ]
  },
  {
   "cell_type": "code",
   "execution_count": 109,
   "id": "1a2efd5e",
   "metadata": {},
   "outputs": [],
   "source": [
    "df['Name_School_Job_Desc_Department'] = df['Name'] + ' ' +  df['Department'] + ' ' +  df['School'] + ' ' + df['Job Description'] + ' salary: ' + df['Earnings']"
   ]
  },
  {
   "cell_type": "code",
   "execution_count": 110,
   "id": "cf507411",
   "metadata": {},
   "outputs": [
    {
     "data": {
      "text/plain": [
       "0    Don Potter Social Work University of Akron Ass...\n",
       "1    Emily Potter Arts and Sciences | Chemistry and...\n",
       "2    Carol Jean Potter Pediatrics The Ohio State Un...\n",
       "3    Kim Potter Legal Affairs | Compliance The Ohio...\n",
       "4    Graham Potter Assoc VP Housing,Dining,Rec,Bus ...\n",
       "Name: Name_School_Job_Desc_Department, dtype: object"
      ]
     },
     "execution_count": 110,
     "metadata": {},
     "output_type": "execute_result"
    }
   ],
   "source": [
    "df['Name_School_Job_Desc_Department'].head()"
   ]
  },
  {
   "cell_type": "code",
   "execution_count": 111,
   "id": "cb378126",
   "metadata": {},
   "outputs": [],
   "source": [
    "data = df.sample(700).to_dict('records')"
   ]
  },
  {
   "cell_type": "code",
   "execution_count": 112,
   "id": "af8bce2c-e123-498a-a5f2-cefffd17fc74",
   "metadata": {},
   "outputs": [],
   "source": [
    "from qdrant_client import models, QdrantClient\n",
    "from sentence_transformers import SentenceTransformer"
   ]
  },
  {
   "cell_type": "code",
   "execution_count": 113,
   "id": "2b0e4be5-7518-4458-bf47-6913ef9a72a9",
   "metadata": {},
   "outputs": [],
   "source": [
    "encoder = SentenceTransformer('all-MiniLM-L6-v2') # Model to create embeddings"
   ]
  },
  {
   "cell_type": "code",
   "execution_count": 114,
   "id": "5efa031d-b18a-4db1-9c34-9989a15c822b",
   "metadata": {},
   "outputs": [],
   "source": [
    "# create the vector database client\n",
    "qdrant = QdrantClient(\":memory:\") # Create in-memory Qdrant instance"
   ]
  },
  {
   "cell_type": "code",
   "execution_count": 115,
   "id": "6c03be93-a076-425e-8df1-5a8b6367e558",
   "metadata": {},
   "outputs": [
    {
     "data": {
      "text/plain": [
       "True"
      ]
     },
     "execution_count": 115,
     "metadata": {},
     "output_type": "execute_result"
    }
   ],
   "source": [
    "# Create collection to store wines\n",
    "qdrant.recreate_collection(\n",
    "    collection_name=\"top_salaries\",\n",
    "    vectors_config=models.VectorParams(\n",
    "        size=encoder.get_sentence_embedding_dimension(), # Vector size is defined by used model\n",
    "        distance=models.Distance.COSINE\n",
    "    )\n",
    ")"
   ]
  },
  {
   "cell_type": "code",
   "execution_count": 116,
   "id": "655d08af-758f-4338-b112-cf94045c7b0d",
   "metadata": {},
   "outputs": [],
   "source": [
    "# vectorize!\n",
    "qdrant.upload_records(\n",
    "    collection_name=\"top_salaries\",\n",
    "    records=[\n",
    "        models.PointStruct(\n",
    "            id=idx,\n",
    "            vector=encoder.encode(doc['Name_School_Job_Desc_Department']).tolist(),\n",
    "            payload=doc,\n",
    "        ) for idx, doc in enumerate(data) # data is the variable holding all the wines\n",
    "    ]\n",
    ")"
   ]
  },
  {
   "cell_type": "code",
   "execution_count": 117,
   "id": "f23bc999",
   "metadata": {},
   "outputs": [],
   "source": [
    "user_prompt = \"Suggest me where to work to be well paid\""
   ]
  },
  {
   "cell_type": "code",
   "execution_count": 118,
   "id": "68c9bff5-db38-4a98-b542-cd173af11b53",
   "metadata": {},
   "outputs": [
    {
     "name": "stdout",
     "output_type": "stream",
     "text": [
      "{'Name': 'Ebed M. Sulbaran Pena', 'School': 'Kent State University', 'Job Description': 'Project Director', 'Department': 'Teaching, Learning, & Curr Studies', 'Earnings': '2019', 'Year': '2019', 'Name_School_Job_Desc_Department': 'Ebed M. Sulbaran Pena Teaching, Learning, & Curr Studies Kent State University Project Director salary: 2019'} score: 0.3671825907738306\n",
      "{'Name': 'Shailaja Paik', 'School': 'University Of Cincinnati', 'Job Description': 'Asst Professor - Prov', 'Department': 'A&S History', 'Earnings': '2013', 'Year': '2013', 'Name_School_Job_Desc_Department': 'Shailaja Paik A&S History University Of Cincinnati Asst Professor - Prov salary: 2013'} score: 0.3572317366399766\n",
      "{'Name': 'Wendy D Haffey', 'School': 'University Of Cincinnati', 'Job Description': 'Research Scientist', 'Department': 'COM Can Bio Proteomics Lab', 'Earnings': '2014', 'Year': '2014', 'Name_School_Job_Desc_Department': 'Wendy D Haffey COM Can Bio Proteomics Lab University Of Cincinnati Research Scientist salary: 2014'} score: 0.3375122266938513\n"
     ]
    }
   ],
   "source": [
    "# Search time for awesome wines!\n",
    "\n",
    "hits = qdrant.search(\n",
    "    collection_name=\"top_salaries\",\n",
    "    query_vector=encoder.encode(user_prompt).tolist(),\n",
    "    limit=3\n",
    ")\n",
    "for hit in hits:\n",
    "  print(hit.payload, \"score:\", hit.score)"
   ]
  },
  {
   "cell_type": "code",
   "execution_count": 119,
   "id": "33243e5d-9e0d-4ec4-98e9-3fc56b8bdb10",
   "metadata": {},
   "outputs": [],
   "source": [
    "# define a variable to hold the search results\n",
    "search_results = [hit.payload for hit in hits]"
   ]
  },
  {
   "cell_type": "code",
   "execution_count": 120,
   "id": "e6c2b91e",
   "metadata": {},
   "outputs": [
    {
     "name": "stdout",
     "output_type": "stream",
     "text": [
      "ChatCompletionMessage(content='Based on the data from the \"top_salaries\" collection in the education sector, here are the top 5 positions that have demonstrated high earnings:\\n\\n1. Ebed M. Sulbaran Pena - Project Director at Kent State University in the Department of Teaching, Learning, & Curriculum Studies (2019 earnings).\\n   \\n2. Shailaja Paik - Assistant Professor - Provost at the University Of Cincinnati in the Department of Arts & Sciences (A&S) History (2013 earnings).\\n   \\n3. Wendy D. Haffey - Research Scientist at the University Of Cincinnati in the Department of COM Can Bio Proteomics Lab (2014 earnings).\\n\\nBased on this data, pursuing a career as a Project Director, Assistant Professor - Provost, or Research Scientist in the education sector could lead to high earning potential. Consider exploring opportunities in these fields to maximize your income potential.', role='assistant', function_call=None, tool_calls=None)\n"
     ]
    }
   ],
   "source": [
    "# Now time to connect to the local large language model\n",
    "from openai import OpenAI\n",
    "client = OpenAI(\n",
    "    base_url=\"https://api.openai.com/v1\", # \"http://<Your api-server IP>:port\"\n",
    "    api_key = \"\"\n",
    ")\n",
    "completion = client.chat.completions.create(\n",
    "    model=\"gpt-3.5-turbo\",\n",
    "    messages=[\n",
    "        {\"role\": \"system\", \"content\": \"Your name is Milena, working as profesor\"},\n",
    "        {\"role\": \"user\", \"content\": \"Suggest me an what kind of profession will best suited for me to be well paid according new data top_salaries in education, you can provide top 5 position in according collection top_salaries\"},\n",
    "        {\"role\": \"assistant\", \"content\": str(search_results)}\n",
    "    ]\n",
    ")\n",
    "print(completion.choices[0].message)"
   ]
  },
  {
   "cell_type": "code",
   "execution_count": null,
   "id": "4807bcb6",
   "metadata": {},
   "outputs": [],
   "source": []
  },
  {
   "cell_type": "code",
   "execution_count": null,
   "id": "6819e337",
   "metadata": {},
   "outputs": [],
   "source": []
  }
 ],
 "metadata": {
  "kernelspec": {
   "display_name": "Python 3 (ipykernel)",
   "language": "python",
   "name": "python3"
  },
  "language_info": {
   "codemirror_mode": {
    "name": "ipython",
    "version": 3
   },
   "file_extension": ".py",
   "mimetype": "text/x-python",
   "name": "python",
   "nbconvert_exporter": "python",
   "pygments_lexer": "ipython3",
   "version": "3.10.13"
  }
 },
 "nbformat": 4,
 "nbformat_minor": 5
}
